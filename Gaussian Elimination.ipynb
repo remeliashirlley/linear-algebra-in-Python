{
 "cells": [
  {
   "cell_type": "markdown",
   "metadata": {},
   "source": [
    "# Gaussian Elimination"
   ]
  },
  {
   "cell_type": "markdown",
   "metadata": {},
   "source": [
    "## Question 1\n",
    "#### Code the echelon form method and use it to reduce matrices to echelon form"
   ]
  },
  {
   "cell_type": "code",
   "execution_count": 49,
   "metadata": {},
   "outputs": [],
   "source": [
    "import matplotlib.pyplot as plt \n",
    "import numpy as np\n",
    "import string"
   ]
  },
  {
   "cell_type": "code",
   "execution_count": 50,
   "metadata": {},
   "outputs": [],
   "source": [
    "rowlist = np.array([[0,2,3,4,5],[0,0,0,3,2],[1,2,3,4,5],[0,0,0,6,7],[0,0,0,9,9]])"
   ]
  },
  {
   "cell_type": "code",
   "execution_count": 51,
   "metadata": {},
   "outputs": [
    {
     "name": "stdout",
     "output_type": "stream",
     "text": [
      "[[0 2 3 4 5]\n",
      " [0 0 0 3 2]\n",
      " [1 2 3 4 5]\n",
      " [0 0 0 6 7]\n",
      " [0 0 0 9 9]]\n"
     ]
    }
   ],
   "source": [
    "print(rowlist)"
   ]
  },
  {
   "cell_type": "code",
   "execution_count": 52,
   "metadata": {},
   "outputs": [
    {
     "name": "stdout",
     "output_type": "stream",
     "text": [
      "{0, 1, 2, 3, 4}\n"
     ]
    }
   ],
   "source": [
    "new_rowlist=[]\n",
    "rows_left = set(range(len(rowlist)))\n",
    "print(rows_left)"
   ]
  },
  {
   "cell_type": "code",
   "execution_count": 53,
   "metadata": {},
   "outputs": [
    {
     "name": "stdout",
     "output_type": "stream",
     "text": [
      "[0, 1, 2, 3, 4]\n"
     ]
    }
   ],
   "source": [
    "col_label_list=list(rows_left)\n",
    "print(col_label_list)"
   ]
  },
  {
   "cell_type": "code",
   "execution_count": 54,
   "metadata": {},
   "outputs": [],
   "source": [
    "for c in col_label_list:\n",
    "    rows_with_nonzero = [r for r in rows_left if rowlist[r][c]!=0]\n",
    "    if rows_with_nonzero!=[]:\n",
    "        pivot = rows_with_nonzero[0]\n",
    "        new_rowlist.append(rowlist[pivot])\n",
    "        rows_left.remove(pivot)"
   ]
  },
  {
   "cell_type": "code",
   "execution_count": 55,
   "metadata": {},
   "outputs": [
    {
     "name": "stdout",
     "output_type": "stream",
     "text": [
      "[[1 2 3 4 5]\n",
      " [0 2 3 4 5]\n",
      " [0 0 0 3 2]\n",
      " [0 0 0 6 7]]\n"
     ]
    }
   ],
   "source": [
    "new_rowlist=np.array(new_rowlist)\n",
    "print(new_rowlist)"
   ]
  },
  {
   "cell_type": "code",
   "execution_count": 56,
   "metadata": {},
   "outputs": [
    {
     "name": "stdout",
     "output_type": "stream",
     "text": [
      "{0, 1, 2, 3, 4}\n",
      "[0, 1, 2, 3, 4]\n"
     ]
    }
   ],
   "source": [
    "new_rowlist=[]\n",
    "rows_left = set(range(len(rowlist)))\n",
    "print(rows_left)\n",
    "col_label_list=list(rows_left)\n",
    "print(col_label_list)\n",
    "\n",
    "for c in col_label_list:\n",
    "    rows_with_nonzero = [r for r in rows_left if rowlist[r][c]!=0]\n",
    "    if rows_with_nonzero!=[]:\n",
    "        pivot = rows_with_nonzero[0]\n",
    "        rows_left.remove(pivot)\n",
    "        new_rowlist.append(rowlist[pivot])\n",
    "        for r in rows_with_nonzero[1:]:\n",
    "            multiplier=rowlist[r][c]/rowlist[pivot][c]\n",
    "            rowlist[r] = rowlist[r]- multiplier*rowlist[pivot]"
   ]
  },
  {
   "cell_type": "code",
   "execution_count": 57,
   "metadata": {},
   "outputs": [
    {
     "name": "stdout",
     "output_type": "stream",
     "text": [
      "[[1 2 3 4 5]\n",
      " [0 2 3 4 5]\n",
      " [0 0 0 3 2]\n",
      " [0 0 0 0 3]]\n"
     ]
    }
   ],
   "source": [
    "new_rowlist=np.array(new_rowlist) \n",
    "print(new_rowlist)"
   ]
  },
  {
   "cell_type": "markdown",
   "metadata": {},
   "source": [
    "## Question 2\n",
    "#### Perform Gaussian Elimination "
   ]
  },
  {
   "cell_type": "code",
   "execution_count": 58,
   "metadata": {},
   "outputs": [],
   "source": [
    "import sympy as sp"
   ]
  },
  {
   "cell_type": "code",
   "execution_count": 59,
   "metadata": {},
   "outputs": [],
   "source": [
    "rowlist = np.array([[0,2,3,4,5],[0,0,0,3,2],[1,2,3,4,5],[0,0,0,6,7],[0,0,0,9,9]])"
   ]
  },
  {
   "cell_type": "code",
   "execution_count": 60,
   "metadata": {},
   "outputs": [
    {
     "name": "stdout",
     "output_type": "stream",
     "text": [
      "(Matrix([\n",
      "[1, 0,   0, 0, 0],\n",
      "[0, 1, 3/2, 0, 0],\n",
      "[0, 0,   0, 1, 0],\n",
      "[0, 0,   0, 0, 1],\n",
      "[0, 0,   0, 0, 0]]), (0, 1, 3, 4))\n"
     ]
    }
   ],
   "source": [
    "reduced_rowlist=sp.Matrix(rowlist).rref()\n",
    "print(reduced_rowlist)"
   ]
  },
  {
   "cell_type": "markdown",
   "metadata": {},
   "source": [
    "#### Since row 4 has 0 $\\times$ X4=1. There is no solution."
   ]
  }
 ],
 "metadata": {
  "kernelspec": {
   "display_name": "Python 3",
   "language": "python",
   "name": "python3"
  },
  "language_info": {
   "codemirror_mode": {
    "name": "ipython",
    "version": 3
   },
   "file_extension": ".py",
   "mimetype": "text/x-python",
   "name": "python",
   "nbconvert_exporter": "python",
   "pygments_lexer": "ipython3",
   "version": "3.8.5"
  }
 },
 "nbformat": 4,
 "nbformat_minor": 4
}
