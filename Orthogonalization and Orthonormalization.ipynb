{
 "cells": [
  {
   "cell_type": "markdown",
   "metadata": {},
   "source": [
    "# Orthogonalization and Orthonormalization"
   ]
  },
  {
   "cell_type": "code",
   "execution_count": 7,
   "metadata": {},
   "outputs": [],
   "source": [
    "import numpy as np\n",
    "import scipy.linalg   # SciPy Linear Algebra Library"
   ]
  },
  {
   "cell_type": "markdown",
   "metadata": {},
   "source": [
    "## Question 1\n",
    "#### Write a program to test if a set of vectors {v1,v2,...,vn} is an orthogonal set"
   ]
  },
  {
   "cell_type": "code",
   "execution_count": 9,
   "metadata": {},
   "outputs": [
    {
     "name": "stdout",
     "output_type": "stream",
     "text": [
      "Result  =  [[0]]\n",
      "Result  =  [[0]]\n",
      "Result  =  [[0]]\n",
      "Result  =  [[0]]\n",
      "Result  =  [[0]]\n",
      "Result  =  [[0]]\n"
     ]
    }
   ],
   "source": [
    "# Taking column vectors\n",
    "v1 = [[-6, -1, 3, 6, 2, -3, -2, 1]]\n",
    "v2 = [[-3, 2, 6, -3, -1, 6, -1, 2]]\n",
    "v3 = [[6, 1, 3, 6, 2, 3, 2, 1 ]]\n",
    "v4 = [[1, -6, -2, -1, 3, 2, -3, 6]]\n",
    "   \n",
    "# Transpose of vectors\n",
    "transposeOfV1 = np.transpose(v1)\n",
    "transposeOfV2 = np.transpose(v2)\n",
    "transposeOfV3 = np.transpose(v3)\n",
    "transposeOfV4 = np.transpose(v4)\n",
    "   \n",
    "# Matrix multiplication of both vectors\n",
    "resultv1v2 = np.dot(v2, transposeOfV1)\n",
    "print(\"Result  = \", resultv1v2)\n",
    "resultv1v3 = np.dot(v3, transposeOfV1)\n",
    "print(\"Result  = \", resultv1v3)\n",
    "resultv1v4 = np.dot(v4, transposeOfV1)\n",
    "print(\"Result  = \", resultv1v4)\n",
    "resultv2v3 = np.dot(v2, transposeOfV3)\n",
    "print(\"Result  = \", resultv2v3)\n",
    "resultv2v4 = np.dot(v2, transposeOfV4)\n",
    "print(\"Result  = \", resultv2v4)\n",
    "resultv3v4 = np.dot(v3, transposeOfV4)\n",
    "print(\"Result  = \", resultv3v4)"
   ]
  },
  {
   "cell_type": "markdown",
   "metadata": {},
   "source": [
    "##### All column vectors are orthogonal to each other"
   ]
  },
  {
   "cell_type": "markdown",
   "metadata": {},
   "source": [
    "## Question 1(b)\n",
    "#### Is it always true (in executing program on dot product) that 2 vectors v.w ≠ 0 means v is not orthogonal to w? If it is not necessary true, give an example and propose a fix."
   ]
  },
  {
   "cell_type": "markdown",
   "metadata": {},
   "source": [
    "##### Yes"
   ]
  },
  {
   "cell_type": "markdown",
   "metadata": {},
   "source": [
    "## Question 2\n",
    "#### Write a module “Orthonormalisation” that defines a a procedure orthonormalise(L) with the following specs:\n",
    "#### • Input: a list L of linearly independent Vecs\n",
    "#### • Output: a list L* of len(L) orthonormal Vecs such that, for i= 1,2,..., len(L), the first i Vecs of L* and the first i Vecs of L span the same space."
   ]
  },
  {
   "cell_type": "code",
   "execution_count": 13,
   "metadata": {},
   "outputs": [],
   "source": [
    "def gram_schmidt(X):\n",
    "    \"\"\"\n",
    "    Implements Gram-Schmidt orthogonalization.\n",
    "\n",
    "    Parameters\n",
    "    ----------\n",
    "    X : an n x k array with linearly independent columns\n",
    "\n",
    "    Returns\n",
    "    -------\n",
    "    U : an n x k array with orthonormal columns\n",
    "\n",
    "    \"\"\"\n",
    "\n",
    "    # Set up\n",
    "    n, k = X.shape\n",
    "    U = np.empty((n, k))\n",
    "    I = np.eye(n)\n",
    "\n",
    "    # The first col of U is just the normalized first col of X\n",
    "    v1 = X[:,0]\n",
    "    U[:, 0] = v1 / np.sqrt(np.sum(v1 * v1))\n",
    "\n",
    "    for i in range(1, k):\n",
    "        # Set up\n",
    "        b = X[:, i]       # The vector we're going to project\n",
    "        Z = X[:, 0:i]     # First i-1 columns of X\n",
    "\n",
    "        # Project onto the orthogonal complement of the col span of Z\n",
    "        M = I - Z @ np.linalg.inv(Z.T @ Z) @ Z.T\n",
    "        u = M @ b\n",
    "\n",
    "        # Normalize\n",
    "        U[:, i] = u / np.sqrt(np.sum(u * u))\n",
    "\n",
    "    return U"
   ]
  },
  {
   "cell_type": "code",
   "execution_count": 14,
   "metadata": {},
   "outputs": [
    {
     "data": {
      "text/plain": [
       "array([[ 0.2981424 ,  0.1407365 ,  0.94408916, -0.05373607],\n",
       "       [ 0.59628479,  0.74487369, -0.29934534,  0.55079474],\n",
       "       [ 0.74535599, -0.65219355, -0.13815939, -0.83290911]])"
      ]
     },
     "execution_count": 14,
     "metadata": {},
     "output_type": "execute_result"
    }
   ],
   "source": [
    "vector =[[4,3,1,2], \n",
    "        [8,9,-5,-5], \n",
    "        [10,1,-1,5]]\n",
    "\n",
    "gram_schmidt(np.array(vector))"
   ]
  },
  {
   "cell_type": "code",
   "execution_count": 15,
   "metadata": {},
   "outputs": [
    {
     "data": {
      "text/plain": [
       "array([1.1e-16, 1.0e+00])"
      ]
     },
     "execution_count": 15,
     "metadata": {},
     "output_type": "execute_result"
    }
   ],
   "source": [
    "A = np.array([[0, 1], [1, 1], [1, 1], [2, 1]])\n",
    "b = np.array([1, 0, 2, 1])\n",
    "q, r = np.linalg.qr(A)\n",
    "p = np.dot(q.T, b)\n",
    "np.dot(np.linalg.inv(r), p)\n",
    "np.array([  1.1e-16,   1.0e+00])"
   ]
  },
  {
   "cell_type": "markdown",
   "metadata": {},
   "source": [
    "## Question 3\n",
    "#### Write a program to compute the QR factorization of matrix A = QR, where Q is orthonormal and R is upper triangular. (refer to lecture notes for the theory). You may assume A consists of linearly independent vectors. Compute the QR factorization of A, formed by the 3 column vectors in Q2."
   ]
  },
  {
   "cell_type": "code",
   "execution_count": 6,
   "metadata": {},
   "outputs": [
    {
     "name": "stdout",
     "output_type": "stream",
     "text": [
      "Q:\n",
      "[[ 0.          0.8660254 ]\n",
      " [-0.40824829  0.28867513]\n",
      " [-0.40824829  0.28867513]\n",
      " [-0.81649658 -0.28867513]]\n",
      "\n",
      "R:\n",
      "[[-2.44948974 -1.63299316]\n",
      " [ 0.          1.15470054]]\n"
     ]
    }
   ],
   "source": [
    "A = np.array([[0, 1], [1, 1], [1, 1], [2, 1]])\n",
    "q, r = np.linalg.qr(A)\n",
    "\n",
    "print(\"Q:\")\n",
    "print(q)\n",
    "print()\n",
    "print(\"R:\")\n",
    "print(r)"
   ]
  }
 ],
 "metadata": {
  "kernelspec": {
   "display_name": "Python 3",
   "language": "python",
   "name": "python3"
  },
  "language_info": {
   "codemirror_mode": {
    "name": "ipython",
    "version": 3
   },
   "file_extension": ".py",
   "mimetype": "text/x-python",
   "name": "python",
   "nbconvert_exporter": "python",
   "pygments_lexer": "ipython3",
   "version": "3.8.5"
  }
 },
 "nbformat": 4,
 "nbformat_minor": 4
}
